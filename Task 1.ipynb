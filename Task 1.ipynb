{
 "cells": [
  {
   "cell_type": "markdown",
   "id": "1d0f136b",
   "metadata": {},
   "source": [
    "# Task 1"
   ]
  },
  {
   "cell_type": "code",
   "execution_count": 1,
   "id": "859e1dfa",
   "metadata": {},
   "outputs": [],
   "source": [
    "import tensorflow as tf\n",
    "from tensorflow import keras\n",
    "import matplotlib.pyplot as plt\n",
    "%matplotlib inline\n",
    "import numpy as np\n",
    "import pandas as pd\n",
    "from tensorflow.keras.preprocessing.image import ImageDataGenerator\n",
    "from tensorflow.keras.preprocessing import image_dataset_from_directory\n",
    "from tensorflow.keras.optimizers import SGD\n",
    "from tensorflow.keras.optimizers import RMSprop\n",
    "from tensorflow.keras.optimizers import Adam\n",
    "from keras.layers import Dense\n",
    "from keras.models import Sequential\n"
   ]
  },
  {
   "cell_type": "markdown",
   "id": "ca56c581",
   "metadata": {},
   "source": [
    "Reading the image dataset :-"
   ]
  },
  {
   "cell_type": "code",
   "execution_count": 2,
   "id": "b285b4e4",
   "metadata": {},
   "outputs": [
    {
     "name": "stdout",
     "output_type": "stream",
     "text": [
      "Found 11385 images belonging to 5 classes.\n",
      "Found 3795 images belonging to 5 classes.\n",
      "Found 3795 images belonging to 5 classes.\n",
      "(3795, 28, 28, 3)\n"
     ]
    },
    {
     "data": {
      "text/plain": [
       "(3795, 28, 28, 3)"
      ]
     },
     "execution_count": 2,
     "metadata": {},
     "output_type": "execute_result"
    }
   ],
   "source": [
    "test_dataset_path = \"Group_3/test\"\n",
    "val_dataset_path = \"Group_3/val\"\n",
    "train_dataset_path = \"Group_3/train\"\n",
    "\n",
    "\n",
    "batch_size = 11385\n",
    "data_with_aug = ImageDataGenerator(rescale=1./255)\n",
    "\n",
    "\n",
    "train = data_with_aug.flow_from_directory(train_dataset_path,\n",
    "                                          batch_size = batch_size,\n",
    "                                          target_size=(28, 28),\n",
    "                                        shuffle=None)\n",
    "\n",
    "val = data_with_aug.flow_from_directory(val_dataset_path,\n",
    "                                        batch_size = batch_size,\n",
    "                                        target_size=(28, 28),shuffle=None)\n",
    "                                          \n",
    "test = data_with_aug.flow_from_directory(test_dataset_path,\n",
    "                                         batch_size = batch_size,\n",
    "                                        target_size=(28, 28),shuffle=None)\n",
    "                                                                               \n",
    "X_train = train[0][0]\n",
    "X_val = val[0][0]\n",
    "X_test = test[0][0]\n",
    "print(X_test.shape)\n",
    "X_val.shape"
   ]
  },
  {
   "cell_type": "markdown",
   "id": "189bc721",
   "metadata": {},
   "source": [
    "Viewing the image :-"
   ]
  },
  {
   "cell_type": "code",
   "execution_count": 3,
   "id": "07aa6a57",
   "metadata": {},
   "outputs": [
    {
     "data": {
      "text/plain": [
       "(-0.5, 27.5, 27.5, -0.5)"
      ]
     },
     "execution_count": 3,
     "metadata": {},
     "output_type": "execute_result"
    },
    {
     "data": {
      "image/png": "[encoded data removed]",
      "text/plain": [
       "<Figure size 432x288 with 1 Axes>"
      ]
     },
     "metadata": {
      "needs_background": "light"
     },
     "output_type": "display_data"
    }
   ],
   "source": [
    "img = X_val[0]\n",
    "plt.imshow(img)\n",
    "#plt.suptitle(\"Train Image\",fontsize=20)\n",
    "plt.title(\"Plotting image \")\n",
    "plt.axis('off')"
   ]
  },
  {
   "cell_type": "code",
   "execution_count": 4,
   "id": "b0acbb14",
   "metadata": {},
   "outputs": [],
   "source": [
    "def One_hot(n):\n",
    "    y= [[1,0,0,0,0] for i in range(n)]\n",
    "    y.extend([[0,1,0,0,0] for i in range(n)])\n",
    "    y.extend([[0,0,1,0,0] for i in range(n)])\n",
    "    y.extend([[0,0,0,1,0] for i in range(n)])\n",
    "    y.extend([[0,0,0,0,1] for i in range(n)])\n",
    "    y = np.array(y)\n",
    "    return y\n",
    "Y_train = One_hot(2277)\n",
    "Y_val = One_hot(759)\n",
    "Y_test=One_hot(759)"
   ]
  },
  {
   "cell_type": "markdown",
   "id": "f72b34a2",
   "metadata": {},
   "source": [
    "Flattening the dataset :-"
   ]
  },
  {
   "cell_type": "code",
   "execution_count": 5,
   "id": "686aa43e",
   "metadata": {},
   "outputs": [],
   "source": [
    "X_train_flattened = X_train.reshape(len(X_train), 28*28*3)\n",
    "X_val_flattened = X_val.reshape(len(X_val), 28*28*3)\n",
    "X_test_flattened = X_test.reshape(len(X_test), 28*28*3)"
   ]
  },
  {
   "cell_type": "code",
   "execution_count": 6,
   "id": "318d65f7",
   "metadata": {},
   "outputs": [],
   "source": [
    "loss = []\n",
    "class myCallback(tf.keras.callbacks.Callback): \n",
    "    def on_epoch_end(self, epoch, logs={}): \n",
    "        loss.append(logs.get('loss'))\n",
    "        if epoch > 1:\n",
    "            if abs(loss[epoch -1] - loss[epoch]) < THRESHOLD:\n",
    "                print(\"\\nLoss Difference : \",loss[epoch -1] - loss[epoch])   \n",
    "                self.model.stop_training = True\n",
    "\n",
    "callbacks = myCallback()\n",
    "THRESHOLD = 10e-4\n"
   ]
  },
  {
   "cell_type": "markdown",
   "id": "2db67421",
   "metadata": {},
   "source": [
    "# Building the model with SGD :-"
   ]
  },
  {
   "cell_type": "code",
   "execution_count": 7,
   "id": "10dd1cee",
   "metadata": {
    "scrolled": true
   },
   "outputs": [
    {
     "name": "stdout",
     "output_type": "stream",
     "text": [
      "Epoch 1/50\n",
      "    1/11385 [..............................] - ETA: 2:02:47 - loss: 1.6271 - accuracy: 0.0000e+00WARNING:tensorflow:Callback method `on_train_batch_end` is slow compared to the batch time (batch time: 0.0000s vs `on_train_batch_end` time: 0.0013s). Check your callbacks.\n",
      "11385/11385 [==============================] - 45s 4ms/step - loss: 0.3104 - accuracy: 0.9120 - val_loss: 0.1500 - val_accuracy: 0.9528\n",
      "Epoch 2/50\n",
      "11385/11385 [==============================] - 43s 4ms/step - loss: 0.1261 - accuracy: 0.9601 - val_loss: 0.1089 - val_accuracy: 0.9668\n",
      "Epoch 3/50\n",
      "11385/11385 [==============================] - 46s 4ms/step - loss: 0.0934 - accuracy: 0.9719 - val_loss: 0.0944 - val_accuracy: 0.9694\n",
      "Epoch 4/50\n",
      "11385/11385 [==============================] - 46s 4ms/step - loss: 0.0721 - accuracy: 0.9764 - val_loss: 0.0776 - val_accuracy: 0.9734\n",
      "Epoch 5/50\n",
      "11385/11385 [==============================] - 45s 4ms/step - loss: 0.0568 - accuracy: 0.9825 - val_loss: 0.0703 - val_accuracy: 0.9747\n",
      "Epoch 6/50\n",
      "11385/11385 [==============================] - 47s 4ms/step - loss: 0.0432 - accuracy: 0.9868 - val_loss: 0.0611 - val_accuracy: 0.9797\n",
      "Epoch 7/50\n",
      "11385/11385 [==============================] - 44s 4ms/step - loss: 0.0366 - accuracy: 0.9899 - val_loss: 0.0566 - val_accuracy: 0.9816\n",
      "Epoch 8/50\n",
      "11385/11385 [==============================] - 45s 4ms/step - loss: 0.0261 - accuracy: 0.9933 - val_loss: 0.0556 - val_accuracy: 0.9826\n",
      "Epoch 9/50\n",
      "11385/11385 [==============================] - 45s 4ms/step - loss: 0.0216 - accuracy: 0.9942 - val_loss: 0.0529 - val_accuracy: 0.9829\n",
      "Epoch 10/50\n",
      "11385/11385 [==============================] - 47s 4ms/step - loss: 0.0184 - accuracy: 0.9951 - val_loss: 0.0606 - val_accuracy: 0.9823\n",
      "Epoch 11/50\n",
      "11385/11385 [==============================] - 45s 4ms/step - loss: 0.0129 - accuracy: 0.9972 - val_loss: 0.0498 - val_accuracy: 0.9852\n",
      "Epoch 12/50\n",
      "11385/11385 [==============================] - 46s 4ms/step - loss: 0.0098 - accuracy: 0.9982 - val_loss: 0.0511 - val_accuracy: 0.9847\n",
      "Epoch 13/50\n",
      "11385/11385 [==============================] - 47s 4ms/step - loss: 0.0076 - accuracy: 0.9989 - val_loss: 0.0523 - val_accuracy: 0.9845\n",
      "Epoch 14/50\n",
      "11385/11385 [==============================] - 44s 4ms/step - loss: 0.0061 - accuracy: 0.9992 - val_loss: 0.0507 - val_accuracy: 0.9852\n",
      "Epoch 15/50\n",
      "11385/11385 [==============================] - 45s 4ms/step - loss: 0.0047 - accuracy: 0.9996 - val_loss: 0.0557 - val_accuracy: 0.9842\n",
      "Epoch 16/50\n",
      "11371/11385 [============================>.] - ETA: 0s - loss: 0.0040 - accuracy: 0.9997\n",
      "Loss Difference :  0.0007302369922399521\n",
      "11385/11385 [==============================] - 46s 4ms/step - loss: 0.0039 - accuracy: 0.9997 - val_loss: 0.0510 - val_accuracy: 0.9858\n"
     ]
    }
   ],
   "source": [
    "opt = SGD(learning_rate=0.001)\n",
    "model = Sequential()\n",
    "model.add(Dense(64,activation=\"relu\",input_shape=(28*28*3,)))\n",
    "model.add(Dense(128,activation=\"relu\"))\n",
    "model.add(Dense(256,activation=\"relu\"))\n",
    "model.add(Dense(5,activation=\"sigmoid\"))\n",
    "model.compile(optimizer=opt,loss=\"categorical_crossentropy\",metrics=[\"accuracy\"])\n",
    "history = model.fit(X_train_flattened,Y_train,validation_data=(X_val_flattened,Y_val),callbacks = [callbacks],epochs=50,batch_size=1)\n"
   ]
  },
  {
   "cell_type": "code",
   "execution_count": 82,
   "id": "76bc94a3",
   "metadata": {},
   "outputs": [
    {
     "name": "stdout",
     "output_type": "stream",
     "text": [
      "dict_keys(['loss', 'accuracy', 'val_loss', 'val_accuracy'])\n"
     ]
    },
    {
     "data": {
      "text/plain": [
       "<matplotlib.legend.Legend at 0x1e94d9e09a0>"
      ]
     },
     "execution_count": 82,
     "metadata": {},
     "output_type": "execute_result"
    },
    {
     "data": {
      "image/png": "[encoded data removed]",
      "text/plain": [
       "<Figure size 432x288 with 1 Axes>"
      ]
     },
     "metadata": {
      "needs_background": "light"
     },
     "output_type": "display_data"
    }
   ],
   "source": [
    "print(history.history.keys())\n",
    "plt.plot(history.history['loss'])\n",
    "plt.plot(history.history['val_loss'])\n",
    "plt.xlabel(\"Epochs\")\n",
    "plt.ylabel(\"Error\")\n",
    "plt.legend(['Training Error','Validation Error'], loc='upper right')\n"
   ]
  },
  {
   "cell_type": "code",
   "execution_count": 84,
   "id": "d325eddf",
   "metadata": {},
   "outputs": [
    {
     "name": "stdout",
     "output_type": "stream",
     "text": [
      "dict_keys(['loss', 'accuracy', 'val_loss', 'val_accuracy'])\n"
     ]
    },
    {
     "data": {
      "text/plain": [
       "<matplotlib.legend.Legend at 0x1e943db3a00>"
      ]
     },
     "execution_count": 84,
     "metadata": {},
     "output_type": "execute_result"
    },
    {
     "data": {
      "image/png": "[encoded data removed]",
      "text/plain": [
       "<Figure size 432x288 with 1 Axes>"
      ]
     },
     "metadata": {
      "needs_background": "light"
     },
     "output_type": "display_data"
    }
   ],
   "source": [
    "print(history.history.keys())\n",
    "plt.plot(history.history['loss'])\n",
    "plt.xlabel(\"Epochs\")\n",
    "plt.ylabel(\"Error\")\n",
    "plt.legend(['Training Error'], loc='upper right')"
   ]
  },
  {
   "cell_type": "code",
   "execution_count": 58,
   "id": "333fff8c",
   "metadata": {},
   "outputs": [
    {
     "name": "stdout",
     "output_type": "stream",
     "text": [
      "119/119 [==============================] - 0s 2ms/step - loss: 0.0838 - accuracy: 0.9797\n"
     ]
    },
    {
     "data": {
      "text/plain": [
       "[0.08375180512666702, 0.9797101616859436]"
      ]
     },
     "execution_count": 58,
     "metadata": {},
     "output_type": "execute_result"
    }
   ],
   "source": [
    "model.evaluate(X_test_flattened, Y_test)"
   ]
  },
  {
   "cell_type": "code",
   "execution_count": 59,
   "id": "74ef6aa1",
   "metadata": {},
   "outputs": [
    {
     "data": {
      "text/plain": [
       "array([9.9611026e-01, 6.4963996e-03, 9.3713725e-01, 2.0512938e-04,\n",
       "       9.2652315e-01], dtype=float32)"
      ]
     },
     "execution_count": 59,
     "metadata": {},
     "output_type": "execute_result"
    }
   ],
   "source": [
    "y_predicted = model.predict(X_test_flattened)\n",
    "y_predicted[0]"
   ]
  },
  {
   "cell_type": "code",
   "execution_count": 60,
   "id": "1e20faf5",
   "metadata": {},
   "outputs": [
    {
     "data": {
      "text/plain": [
       "5"
      ]
     },
     "execution_count": 60,
     "metadata": {},
     "output_type": "execute_result"
    }
   ],
   "source": [
    "y_pred = []\n",
    "for i in y_predicted:\n",
    "    temp = np.argmax(i)\n",
    "    if temp == 0:\n",
    "        y_pred.append(0)\n",
    "    if temp == 1:\n",
    "        y_pred.append(2)\n",
    "    if temp == 2:\n",
    "        y_pred.append(5)\n",
    "    if temp == 3:\n",
    "        y_pred.append(6)\n",
    "    if temp == 4:\n",
    "        y_pred.append(7)\n",
    "        \n",
    "y_pred[1600]"
   ]
  },
  {
   "cell_type": "code",
   "execution_count": 61,
   "id": "6f0f07fc",
   "metadata": {},
   "outputs": [],
   "source": [
    "Y_pred = []\n",
    "for i in y_predicted:\n",
    "    Y_pred.append(np.argmax(i))\n"
   ]
  },
  {
   "cell_type": "code",
   "execution_count": 62,
   "id": "bd481f8a",
   "metadata": {},
   "outputs": [
    {
     "data": {
      "text/plain": [
       "<matplotlib.image.AxesImage at 0x1e943ff2fa0>"
      ]
     },
     "execution_count": 62,
     "metadata": {},
     "output_type": "execute_result"
    },
    {
     "data": {
      "image/png": "[encoded data removed]",
      "text/plain": [
       "<Figure size 288x288 with 1 Axes>"
      ]
     },
     "metadata": {
      "needs_background": "light"
     },
     "output_type": "display_data"
    }
   ],
   "source": [
    "plt.matshow(X_test[1600])"
   ]
  },
  {
   "cell_type": "code",
   "execution_count": 63,
   "id": "844e4b53",
   "metadata": {
    "scrolled": true
   },
   "outputs": [
    {
     "name": "stdout",
     "output_type": "stream",
     "text": [
      "Accuracy: 0.980\n"
     ]
    },
    {
     "data": {
      "image/png": "[encoded data removed]",
      "text/plain": [
       "<Figure size 720x504 with 2 Axes>"
      ]
     },
     "metadata": {
      "needs_background": "light"
     },
     "output_type": "display_data"
    }
   ],
   "source": [
    "from sklearn.metrics import confusion_matrix\n",
    "from sklearn.metrics import precision_score, recall_score, f1_score, accuracy_score\n",
    "cm = confusion_matrix(Y_pred,test.classes)\n",
    "import seaborn as sn\n",
    "categories = ['0', '2','5','6','7']\n",
    "\n",
    "plt.figure(figsize = (10,7))\n",
    "sn.heatmap(cm, annot=True, fmt='d',xticklabels=categories,yticklabels=categories)\n",
    "plt.xlabel('Predicted')\n",
    "plt.ylabel('Truth')\n",
    "print('Accuracy: %.3f' % accuracy_score(test.classes,Y_pred))\n"
   ]
  },
  {
   "cell_type": "code",
   "execution_count": 15,
   "id": "122bb61c",
   "metadata": {},
   "outputs": [
    {
     "data": {
      "text/plain": [
       "array([0, 0, 0, ..., 4, 4, 4])"
      ]
     },
     "execution_count": 15,
     "metadata": {},
     "output_type": "execute_result"
    }
   ],
   "source": [
    "test.classes"
   ]
  },
  {
   "cell_type": "markdown",
   "id": "de2cc2e3",
   "metadata": {},
   "source": [
    "# Building the model with batch gradient descent algorithm (vanilla gradient descent) :-"
   ]
  },
  {
   "cell_type": "code",
   "execution_count": 65,
   "id": "00c02ebe",
   "metadata": {},
   "outputs": [
    {
     "name": "stdout",
     "output_type": "stream",
     "text": [
      "Epoch 1/1000\n",
      "1/1 [==============================] - 1s 855ms/step - loss: 1.6082 - accuracy: 0.2027 - val_loss: 1.6072 - val_accuracy: 0.2150\n",
      "Epoch 2/1000\n",
      "1/1 [==============================] - 0s 188ms/step - loss: 1.6077 - accuracy: 0.2042 - val_loss: 1.6067 - val_accuracy: 0.2163\n",
      "Epoch 3/1000\n",
      "1/1 [==============================] - 0s 172ms/step - loss: 1.6072 - accuracy: 0.2054 - val_loss: 1.6062 - val_accuracy: 0.2179\n",
      "Epoch 4/1000\n",
      "1/1 [==============================] - 0s 202ms/step - loss: 1.6066 - accuracy: 0.2068 - val_loss: 1.6057 - val_accuracy: 0.2192\n",
      "Epoch 5/1000\n",
      "1/1 [==============================] - 0s 203ms/step - loss: 1.6061 - accuracy: 0.2078 - val_loss: 1.6051 - val_accuracy: 0.2206\n",
      "Epoch 6/1000\n",
      "1/1 [==============================] - 0s 200ms/step - loss: 1.6056 - accuracy: 0.2093 - val_loss: 1.6046 - val_accuracy: 0.2213\n",
      "Epoch 7/1000\n",
      "1/1 [==============================] - 0s 198ms/step - loss: 1.6051 - accuracy: 0.2107 - val_loss: 1.6041 - val_accuracy: 0.2229\n",
      "Epoch 8/1000\n",
      "1/1 [==============================] - 0s 201ms/step - loss: 1.6046 - accuracy: 0.2123 - val_loss: 1.6036 - val_accuracy: 0.2250\n",
      "Epoch 9/1000\n",
      "1/1 [==============================] - 0s 200ms/step - loss: 1.6041 - accuracy: 0.2143 - val_loss: 1.6031 - val_accuracy: 0.2258\n",
      "Epoch 10/1000\n",
      "1/1 [==============================] - 0s 212ms/step - loss: 1.6036 - accuracy: 0.2157 - val_loss: 1.6026 - val_accuracy: 0.2264\n",
      "Epoch 11/1000\n",
      "1/1 [==============================] - 0s 203ms/step - loss: 1.6031 - accuracy: 0.2176 - val_loss: 1.6021 - val_accuracy: 0.2277\n",
      "Epoch 12/1000\n",
      "1/1 [==============================] - ETA: 0s - loss: 1.6026 - accuracy: 0.2198\n",
      "Loss Difference :  0.0008802348747849464\n",
      "1/1 [==============================] - 0s 213ms/step - loss: 1.6026 - accuracy: 0.2198 - val_loss: 1.6016 - val_accuracy: 0.2287\n"
     ]
    }
   ],
   "source": [
    "opt_bgd = SGD(learning_rate=0.001)\n",
    "model_bgd = Sequential()\n",
    "model_bgd.add(Dense(64,activation=\"relu\",input_shape=(28*28*3,)))\n",
    "model_bgd.add(Dense(128,activation=\"relu\"))\n",
    "model_bgd.add(Dense(256,activation=\"relu\"))\n",
    "model_bgd.add(Dense(5,activation=\"sigmoid\"))\n",
    "model_bgd.compile(optimizer=opt_bgd,loss=\"categorical_crossentropy\",metrics=[\"accuracy\"])\n",
    "history_bgd = model_bgd.fit(X_train_flattened,Y_train,validation_data=(X_val_flattened,Y_val),callbacks = [callbacks],epochs=1000,batch_size=len(X_train))\n"
   ]
  },
  {
   "cell_type": "code",
   "execution_count": 85,
   "id": "7af40c5b",
   "metadata": {},
   "outputs": [
    {
     "name": "stdout",
     "output_type": "stream",
     "text": [
      "dict_keys(['loss', 'accuracy', 'val_loss', 'val_accuracy'])\n"
     ]
    },
    {
     "data": {
      "text/plain": [
       "<matplotlib.legend.Legend at 0x1e94c813490>"
      ]
     },
     "execution_count": 85,
     "metadata": {},
     "output_type": "execute_result"
    },
    {
     "data": {
      "image/png": "[encoded data removed]",
      "text/plain": [
       "<Figure size 432x288 with 1 Axes>"
      ]
     },
     "metadata": {
      "needs_background": "light"
     },
     "output_type": "display_data"
    }
   ],
   "source": [
    "print(history_bgd.history.keys())\n",
    "plt.plot(history_bgd.history['loss'])\n",
    "plt.plot(history.history['val_loss'])\n",
    "plt.xlabel(\"Epochs\")\n",
    "plt.ylabel(\"Error\")\n",
    "plt.legend(['Training Error','Validation Error'], loc='upper right')\n"
   ]
  },
  {
   "cell_type": "code",
   "execution_count": 66,
   "id": "a10a978b",
   "metadata": {},
   "outputs": [
    {
     "name": "stdout",
     "output_type": "stream",
     "text": [
      "dict_keys(['loss', 'accuracy', 'val_loss', 'val_accuracy'])\n"
     ]
    },
    {
     "data": {
      "text/plain": [
       "<matplotlib.legend.Legend at 0x1e957f61310>"
      ]
     },
     "execution_count": 66,
     "metadata": {},
     "output_type": "execute_result"
    },
    {
     "data": {
      "image/png": "[encoded data removed]",
      "text/plain": [
       "<Figure size 432x288 with 1 Axes>"
      ]
     },
     "metadata": {
      "needs_background": "light"
     },
     "output_type": "display_data"
    }
   ],
   "source": [
    "print(history_bgd.history.keys())\n",
    "plt.plot(history_bgd.history['loss'])\n",
    "#plt.plot(history.history['val_loss'])\n",
    "plt.xlabel(\"Epochs\")\n",
    "plt.ylabel(\"Error\")\n",
    "plt.legend(['Training Error'], loc='upper right')"
   ]
  },
  {
   "cell_type": "code",
   "execution_count": 18,
   "id": "1cb6f3d1",
   "metadata": {},
   "outputs": [
    {
     "name": "stdout",
     "output_type": "stream",
     "text": [
      "119/119 [==============================] - 0s 1ms/step - loss: 1.6198 - accuracy: 0.1897\n"
     ]
    },
    {
     "data": {
      "text/plain": [
       "[1.6197571754455566, 0.18972331285476685]"
      ]
     },
     "execution_count": 18,
     "metadata": {},
     "output_type": "execute_result"
    }
   ],
   "source": [
    "model_bgd.evaluate(X_test_flattened, Y_test)"
   ]
  },
  {
   "cell_type": "code",
   "execution_count": 19,
   "id": "e4a35218",
   "metadata": {},
   "outputs": [],
   "source": [
    "y_predicted_bgd = model_bgd.predict(X_test_flattened)\n",
    "Y_pred_bgd = []\n",
    "for i in y_predicted_bgd:\n",
    "    Y_pred_bgd.append(np.argmax(i))"
   ]
  },
  {
   "cell_type": "code",
   "execution_count": 20,
   "id": "75fd9987",
   "metadata": {},
   "outputs": [
    {
     "name": "stdout",
     "output_type": "stream",
     "text": [
      "Accuracy: 0.190\n"
     ]
    },
    {
     "data": {
      "image/png": "[encoded data removed]",
      "text/plain": [
       "<Figure size 720x504 with 2 Axes>"
      ]
     },
     "metadata": {
      "needs_background": "light"
     },
     "output_type": "display_data"
    }
   ],
   "source": [
    "from sklearn.metrics import confusion_matrix\n",
    "from sklearn.metrics import precision_score, recall_score, f1_score, accuracy_score\n",
    "cm_bgd = confusion_matrix(Y_pred_bgd,test.classes)\n",
    "import seaborn as sn\n",
    "categories = ['0', '2','5','6','7']\n",
    "\n",
    "plt.figure(figsize = (10,7))\n",
    "sn.heatmap(cm_bgd, annot=True, fmt='d',xticklabels=categories,yticklabels=categories)\n",
    "plt.xlabel('Predicted')\n",
    "plt.ylabel('Truth')\n",
    "print('Accuracy: %.3f' % accuracy_score(test.classes,Y_pred_bgd))"
   ]
  },
  {
   "cell_type": "markdown",
   "id": "a5a5e1ac",
   "metadata": {},
   "source": [
    "# Building the model with SGD with momentum (NAG) :-"
   ]
  },
  {
   "cell_type": "code",
   "execution_count": 51,
   "id": "a5ad5dfb",
   "metadata": {},
   "outputs": [
    {
     "name": "stdout",
     "output_type": "stream",
     "text": [
      "Epoch 1/50\n",
      "356/356 [==============================] - 1s 3ms/step - loss: 0.6553 - accuracy: 0.8004 - val_loss: 0.2107 - val_accuracy: 0.9360\n",
      "Epoch 2/50\n",
      "356/356 [==============================] - 1s 2ms/step - loss: 0.1748 - accuracy: 0.9469 - val_loss: 0.1517 - val_accuracy: 0.9531\n",
      "Epoch 3/50\n",
      "356/356 [==============================] - 1s 2ms/step - loss: 0.1332 - accuracy: 0.9584 - val_loss: 0.1411 - val_accuracy: 0.9539\n",
      "Epoch 4/50\n",
      "356/356 [==============================] - 1s 2ms/step - loss: 0.1134 - accuracy: 0.9650 - val_loss: 0.1150 - val_accuracy: 0.9657\n",
      "Epoch 5/50\n",
      "356/356 [==============================] - 1s 2ms/step - loss: 0.0991 - accuracy: 0.9687 - val_loss: 0.1063 - val_accuracy: 0.9657\n",
      "Epoch 6/50\n",
      "356/356 [==============================] - 1s 2ms/step - loss: 0.0882 - accuracy: 0.9730 - val_loss: 0.0975 - val_accuracy: 0.9705\n",
      "Epoch 7/50\n",
      "356/356 [==============================] - 1s 2ms/step - loss: 0.0791 - accuracy: 0.9757 - val_loss: 0.0898 - val_accuracy: 0.9742\n",
      "Epoch 8/50\n",
      "356/356 [==============================] - 1s 2ms/step - loss: 0.0694 - accuracy: 0.9787 - val_loss: 0.0914 - val_accuracy: 0.9729\n",
      "Epoch 9/50\n",
      "356/356 [==============================] - 1s 2ms/step - loss: 0.0647 - accuracy: 0.9816 - val_loss: 0.0842 - val_accuracy: 0.9747\n",
      "Epoch 10/50\n",
      "356/356 [==============================] - 1s 2ms/step - loss: 0.0581 - accuracy: 0.9838 - val_loss: 0.0829 - val_accuracy: 0.9744\n",
      "Epoch 11/50\n",
      "356/356 [==============================] - 1s 2ms/step - loss: 0.0527 - accuracy: 0.9854 - val_loss: 0.0745 - val_accuracy: 0.9787\n",
      "Epoch 12/50\n",
      "341/356 [===========================>..] - ETA: 0s - loss: 0.0472 - accuracy: 0.9861\n",
      "Loss Difference :  0.0008802348747849464\n",
      "356/356 [==============================] - 1s 2ms/step - loss: 0.0471 - accuracy: 0.9861 - val_loss: 0.0766 - val_accuracy: 0.9758\n"
     ]
    }
   ],
   "source": [
    "opt_NAG = SGD(learning_rate=0.001, momentum=0.9)\n",
    "model_NAG = Sequential()\n",
    "model_NAG.add(Dense(64,activation=\"relu\",input_shape=(28*28*3,)))\n",
    "model_NAG.add(Dense(64,activation=\"relu\"))\n",
    "model_NAG.add(Dense(128,activation=\"relu\"))\n",
    "model_NAG.add(Dense(5,activation=\"sigmoid\"))\n",
    "model_NAG.compile(optimizer=opt_NAG,loss=\"categorical_crossentropy\",metrics=[\"accuracy\"])\n",
    "history_NAG = model_NAG.fit(X_train_flattened,Y_train,validation_data=(X_val_flattened,Y_val),callbacks = [callbacks],epochs=50,batch_size=32)"
   ]
  },
  {
   "cell_type": "code",
   "execution_count": 86,
   "id": "47769506",
   "metadata": {},
   "outputs": [
    {
     "name": "stdout",
     "output_type": "stream",
     "text": [
      "dict_keys(['loss', 'accuracy', 'val_loss', 'val_accuracy'])\n"
     ]
    },
    {
     "data": {
      "text/plain": [
       "<matplotlib.legend.Legend at 0x1e949c893d0>"
      ]
     },
     "execution_count": 86,
     "metadata": {},
     "output_type": "execute_result"
    },
    {
     "data": {
      "image/png": "[encoded data removed]",
      "text/plain": [
       "<Figure size 432x288 with 1 Axes>"
      ]
     },
     "metadata": {
      "needs_background": "light"
     },
     "output_type": "display_data"
    }
   ],
   "source": [
    "print(history_NAG.history.keys())\n",
    "plt.plot(history_NAG.history['loss'])\n",
    "plt.plot(history_NAG.history['val_loss'])\n",
    "plt.xlabel(\"Epochs\")\n",
    "plt.ylabel(\"Error\")\n",
    "plt.legend(['Training Error','Validation Error'], loc='upper right')\n"
   ]
  },
  {
   "cell_type": "code",
   "execution_count": 68,
   "id": "7dd14ccb",
   "metadata": {},
   "outputs": [
    {
     "name": "stdout",
     "output_type": "stream",
     "text": [
      "dict_keys(['loss', 'accuracy', 'val_loss', 'val_accuracy'])\n"
     ]
    },
    {
     "data": {
      "text/plain": [
       "<matplotlib.legend.Legend at 0x1e958149850>"
      ]
     },
     "execution_count": 68,
     "metadata": {},
     "output_type": "execute_result"
    },
    {
     "data": {
      "image/png": "[encoded data removed]",
      "text/plain": [
       "<Figure size 432x288 with 1 Axes>"
      ]
     },
     "metadata": {
      "needs_background": "light"
     },
     "output_type": "display_data"
    }
   ],
   "source": [
    "print(history_NAG.history.keys())\n",
    "plt.plot(history_NAG.history['loss'])\n",
    "#plt.plot(history.history['val_loss'])\n",
    "plt.xlabel(\"Epochs\")\n",
    "plt.ylabel(\"Error\")\n",
    "plt.legend(['Training Error'], loc='upper right')"
   ]
  },
  {
   "cell_type": "code",
   "execution_count": 69,
   "id": "c1e51034",
   "metadata": {},
   "outputs": [
    {
     "name": "stdout",
     "output_type": "stream",
     "text": [
      "119/119 [==============================] - 0s 2ms/step - loss: 0.0918 - accuracy: 0.9747\n"
     ]
    },
    {
     "data": {
      "text/plain": [
       "[0.09179514646530151, 0.9747035503387451]"
      ]
     },
     "execution_count": 69,
     "metadata": {},
     "output_type": "execute_result"
    }
   ],
   "source": [
    "model_NAG.evaluate(X_test_flattened, Y_test)"
   ]
  },
  {
   "cell_type": "code",
   "execution_count": 70,
   "id": "e62f2b4b",
   "metadata": {},
   "outputs": [],
   "source": [
    "y_predicted_NAG = model_NAG.predict(X_test_flattened)\n",
    "Y_pred_NAG = []\n",
    "for i in y_predicted_NAG:\n",
    "    Y_pred_NAG.append(np.argmax(i))"
   ]
  },
  {
   "cell_type": "code",
   "execution_count": 71,
   "id": "3a6db0fb",
   "metadata": {},
   "outputs": [
    {
     "name": "stdout",
     "output_type": "stream",
     "text": [
      "Accuracy: 0.975\n"
     ]
    },
    {
     "data": {
      "image/png": "[encoded data removed]",
      "text/plain": [
       "<Figure size 720x504 with 2 Axes>"
      ]
     },
     "metadata": {
      "needs_background": "light"
     },
     "output_type": "display_data"
    }
   ],
   "source": [
    "from sklearn.metrics import confusion_matrix\n",
    "from sklearn.metrics import precision_score, recall_score, f1_score, accuracy_score\n",
    "cm_NAG = confusion_matrix(Y_pred_NAG,test.classes)\n",
    "import seaborn as sn\n",
    "categories = ['0', '2','5','6','7']\n",
    "\n",
    "plt.figure(figsize = (10,7))\n",
    "sn.heatmap(cm_NAG, annot=True, fmt='d',xticklabels=categories,yticklabels=categories)\n",
    "plt.xlabel('Predicted')\n",
    "plt.ylabel('Truth')\n",
    "print('Accuracy: %.3f' % accuracy_score(test.classes,Y_pred_NAG))"
   ]
  },
  {
   "cell_type": "markdown",
   "id": "b9177659",
   "metadata": {},
   "source": [
    "# Building the model with RMSProp algorithm :-"
   ]
  },
  {
   "cell_type": "code",
   "execution_count": 55,
   "id": "bdf74361",
   "metadata": {},
   "outputs": [
    {
     "name": "stdout",
     "output_type": "stream",
     "text": [
      "Epoch 1/50\n",
      "356/356 [==============================] - 2s 4ms/step - loss: 0.4474 - accuracy: 0.9248 - val_loss: 0.1447 - val_accuracy: 0.9599\n",
      "Epoch 2/50\n",
      "356/356 [==============================] - 1s 4ms/step - loss: 0.1384 - accuracy: 0.9628 - val_loss: 0.1555 - val_accuracy: 0.9589\n",
      "Epoch 3/50\n",
      "356/356 [==============================] - 1s 4ms/step - loss: 0.1266 - accuracy: 0.9693 - val_loss: 0.1431 - val_accuracy: 0.9652\n",
      "Epoch 4/50\n",
      "356/356 [==============================] - 1s 4ms/step - loss: 0.1071 - accuracy: 0.9743 - val_loss: 0.1148 - val_accuracy: 0.9708\n",
      "Epoch 5/50\n",
      "356/356 [==============================] - 1s 4ms/step - loss: 0.1092 - accuracy: 0.9753 - val_loss: 0.1148 - val_accuracy: 0.9710\n",
      "Epoch 6/50\n",
      "356/356 [==============================] - 1s 4ms/step - loss: 0.0944 - accuracy: 0.9780 - val_loss: 0.0987 - val_accuracy: 0.9697\n",
      "Epoch 7/50\n",
      "356/356 [==============================] - 1s 4ms/step - loss: 0.0885 - accuracy: 0.9807 - val_loss: 0.1545 - val_accuracy: 0.9647\n",
      "Epoch 8/50\n",
      "356/356 [==============================] - 1s 4ms/step - loss: 0.0609 - accuracy: 0.9863 - val_loss: 0.1716 - val_accuracy: 0.9692\n",
      "Epoch 9/50\n",
      "356/356 [==============================] - 1s 4ms/step - loss: 0.0890 - accuracy: 0.9802 - val_loss: 0.1480 - val_accuracy: 0.9750\n",
      "Epoch 10/50\n",
      "356/356 [==============================] - 1s 4ms/step - loss: 0.0739 - accuracy: 0.9835 - val_loss: 0.1258 - val_accuracy: 0.9726\n",
      "Epoch 11/50\n",
      "356/356 [==============================] - 1s 4ms/step - loss: 0.0693 - accuracy: 0.9854 - val_loss: 0.1853 - val_accuracy: 0.9739\n",
      "Epoch 12/50\n",
      "342/356 [===========================>..] - ETA: 0s - loss: 0.0631 - accuracy: 0.9857\n",
      "Loss Difference :  0.0008802348747849464\n",
      "356/356 [==============================] - 1s 4ms/step - loss: 0.0614 - accuracy: 0.9859 - val_loss: 0.1252 - val_accuracy: 0.9784\n"
     ]
    }
   ],
   "source": [
    "opt_rms = RMSprop(learning_rate=0.001,rho=0.99, momentum=0.9,centered=False,\n",
    "     name='RMSprop') \n",
    "model_rms = Sequential()\n",
    "model_rms.add(Dense(128,activation=\"relu\",input_shape=(28*28*3,)))\n",
    "model_rms.add(Dense(128,activation=\"relu\"))\n",
    "model_rms.add(Dense(128,activation=\"relu\"))\n",
    "model_rms.add(Dense(5,activation=\"sigmoid\"))\n",
    "model_rms.compile(optimizer=opt_rms,loss=\"categorical_crossentropy\",metrics=[\"accuracy\"])\n",
    "history_rms = model_rms.fit(X_train_flattened,Y_train,validation_data=(X_val_flattened,Y_val),callbacks = [callbacks],epochs=50,batch_size=32)"
   ]
  },
  {
   "cell_type": "code",
   "execution_count": 87,
   "id": "2ef44074",
   "metadata": {},
   "outputs": [
    {
     "name": "stdout",
     "output_type": "stream",
     "text": [
      "dict_keys(['loss', 'accuracy', 'val_loss', 'val_accuracy'])\n"
     ]
    },
    {
     "data": {
      "text/plain": [
       "<matplotlib.legend.Legend at 0x1e946d55160>"
      ]
     },
     "execution_count": 87,
     "metadata": {},
     "output_type": "execute_result"
    },
    {
     "data": {
      "image/png": "[encoded data removed]",
      "text/plain": [
       "<Figure size 432x288 with 1 Axes>"
      ]
     },
     "metadata": {
      "needs_background": "light"
     },
     "output_type": "display_data"
    }
   ],
   "source": [
    "print(history_rms.history.keys())\n",
    "plt.plot(history_rms.history['loss'])\n",
    "plt.plot(history_rms.history['val_loss'])\n",
    "plt.xlabel(\"Epochs\")\n",
    "plt.ylabel(\"Error\")\n",
    "plt.legend(['Training Error','Validation Error'], loc='upper right')\n"
   ]
  },
  {
   "cell_type": "code",
   "execution_count": 42,
   "id": "99f1a216",
   "metadata": {},
   "outputs": [
    {
     "name": "stdout",
     "output_type": "stream",
     "text": [
      "dict_keys(['loss', 'accuracy', 'val_loss', 'val_accuracy'])\n"
     ]
    },
    {
     "data": {
      "text/plain": [
       "<matplotlib.legend.Legend at 0x1e946ee99a0>"
      ]
     },
     "execution_count": 42,
     "metadata": {},
     "output_type": "execute_result"
    },
    {
     "data": {
      "image/png": "[encoded data removed]",
      "text/plain": [
       "<Figure size 432x288 with 1 Axes>"
      ]
     },
     "metadata": {
      "needs_background": "light"
     },
     "output_type": "display_data"
    }
   ],
   "source": [
    "print(history_rms.history.keys())\n",
    "plt.plot(history_rms.history['loss'])\n",
    "#plt.plot(history.history['val_loss'])\n",
    "plt.xlabel(\"Epochs\")\n",
    "plt.ylabel(\"Error\")\n",
    "plt.legend(['Training Error'], loc='upper right')"
   ]
  },
  {
   "cell_type": "code",
   "execution_count": 72,
   "id": "548c5e7e",
   "metadata": {},
   "outputs": [
    {
     "name": "stdout",
     "output_type": "stream",
     "text": [
      "119/119 [==============================] - 0s 2ms/step - loss: 0.2333 - accuracy: 0.9736\n"
     ]
    },
    {
     "data": {
      "text/plain": [
       "[0.23328272998332977, 0.9736495614051819]"
      ]
     },
     "execution_count": 72,
     "metadata": {},
     "output_type": "execute_result"
    }
   ],
   "source": [
    "model_rms.evaluate(X_test_flattened, Y_test)"
   ]
  },
  {
   "cell_type": "code",
   "execution_count": 73,
   "id": "15e1f1ed",
   "metadata": {},
   "outputs": [],
   "source": [
    "y_predicted_rms = model_rms.predict(X_test_flattened)\n",
    "Y_pred_rms = []\n",
    "for i in y_predicted_rms:\n",
    "    Y_pred_rms.append(np.argmax(i))"
   ]
  },
  {
   "cell_type": "code",
   "execution_count": 74,
   "id": "a1efc38e",
   "metadata": {},
   "outputs": [
    {
     "name": "stdout",
     "output_type": "stream",
     "text": [
      "Accuracy: 0.973\n"
     ]
    },
    {
     "data": {
      "image/png": "[encoded data removed]",
      "text/plain": [
       "<Figure size 720x504 with 2 Axes>"
      ]
     },
     "metadata": {
      "needs_background": "light"
     },
     "output_type": "display_data"
    }
   ],
   "source": [
    "from sklearn.metrics import confusion_matrix\n",
    "from sklearn.metrics import precision_score, recall_score, f1_score, accuracy_score\n",
    "cm_rms = confusion_matrix(Y_pred_rms,test.classes)\n",
    "import seaborn as sn\n",
    "categories = ['0', '2','5','6','7']\n",
    "\n",
    "plt.figure(figsize = (10,7))\n",
    "sn.heatmap(cm_rms, annot=True, fmt='d',xticklabels=categories,yticklabels=categories)\n",
    "plt.xlabel('Predicted')\n",
    "plt.ylabel('Truth')\n",
    "print('Accuracy: %.3f' % accuracy_score(test.classes,Y_pred_rms))"
   ]
  },
  {
   "cell_type": "markdown",
   "id": "1777b335",
   "metadata": {},
   "source": [
    "# Building the model with Adam optimizer :-"
   ]
  },
  {
   "cell_type": "code",
   "execution_count": 75,
   "id": "ec9f3ba9",
   "metadata": {},
   "outputs": [
    {
     "name": "stdout",
     "output_type": "stream",
     "text": [
      "Epoch 1/50\n",
      "356/356 [==============================] - 2s 5ms/step - loss: 0.1657 - accuracy: 0.9491 - val_loss: 0.0884 - val_accuracy: 0.9734\n",
      "Epoch 2/50\n",
      "356/356 [==============================] - 2s 4ms/step - loss: 0.0602 - accuracy: 0.9810 - val_loss: 0.0725 - val_accuracy: 0.9781\n",
      "Epoch 3/50\n",
      "356/356 [==============================] - 2s 4ms/step - loss: 0.0426 - accuracy: 0.9864 - val_loss: 0.0614 - val_accuracy: 0.9805\n",
      "Epoch 4/50\n",
      "356/356 [==============================] - 2s 4ms/step - loss: 0.0261 - accuracy: 0.9920 - val_loss: 0.0739 - val_accuracy: 0.9805\n",
      "Epoch 5/50\n",
      "356/356 [==============================] - 2s 4ms/step - loss: 0.0211 - accuracy: 0.9933 - val_loss: 0.0652 - val_accuracy: 0.9810\n",
      "Epoch 6/50\n",
      "356/356 [==============================] - 2s 4ms/step - loss: 0.0154 - accuracy: 0.9960 - val_loss: 0.0643 - val_accuracy: 0.9818\n",
      "Epoch 7/50\n",
      "356/356 [==============================] - 2s 4ms/step - loss: 0.0194 - accuracy: 0.9937 - val_loss: 0.0648 - val_accuracy: 0.9842\n",
      "Epoch 8/50\n",
      "356/356 [==============================] - 2s 5ms/step - loss: 0.0156 - accuracy: 0.9946 - val_loss: 0.0939 - val_accuracy: 0.9813\n",
      "Epoch 9/50\n",
      "356/356 [==============================] - 2s 4ms/step - loss: 0.0140 - accuracy: 0.9956 - val_loss: 0.0575 - val_accuracy: 0.9860\n",
      "Epoch 10/50\n",
      "356/356 [==============================] - 2s 4ms/step - loss: 0.0143 - accuracy: 0.9963 - val_loss: 0.0468 - val_accuracy: 0.9889\n",
      "Epoch 11/50\n",
      "356/356 [==============================] - 2s 4ms/step - loss: 0.0114 - accuracy: 0.9966 - val_loss: 0.0516 - val_accuracy: 0.9871\n",
      "Epoch 12/50\n",
      "356/356 [==============================] - ETA: 0s - loss: 0.0029 - accuracy: 0.9994\n",
      "Loss Difference :  0.0008802348747849464\n",
      "356/356 [==============================] - 2s 4ms/step - loss: 0.0029 - accuracy: 0.9994 - val_loss: 0.0514 - val_accuracy: 0.9876\n"
     ]
    }
   ],
   "source": [
    "opt_adam = Adam(learning_rate=0.001, beta_1=0.9, beta_2=0.999, epsilon=1e-08, amsgrad=False)\n",
    "model_adam = Sequential()\n",
    "model_adam.add(Dense(128,activation=\"relu\",input_shape=(28*28*3,)))\n",
    "model_adam.add(Dense(256,activation=\"relu\"))\n",
    "model_adam.add(Dense(128,activation=\"relu\"))\n",
    "model_adam.add(Dense(5,activation=\"sigmoid\"))\n",
    "model_adam.compile(optimizer=opt_adam,loss=\"categorical_crossentropy\",metrics=[\"accuracy\"])\n",
    "history_adam = model_adam.fit(X_train_flattened,Y_train,validation_data=(X_val_flattened,Y_val),callbacks = [callbacks],epochs=50,batch_size=32)"
   ]
  },
  {
   "cell_type": "code",
   "execution_count": 88,
   "id": "09edf834",
   "metadata": {
    "scrolled": true
   },
   "outputs": [
    {
     "name": "stdout",
     "output_type": "stream",
     "text": [
      "dict_keys(['loss', 'accuracy', 'val_loss', 'val_accuracy'])\n"
     ]
    },
    {
     "data": {
      "text/plain": [
       "<matplotlib.legend.Legend at 0x1e949b9aa30>"
      ]
     },
     "execution_count": 88,
     "metadata": {},
     "output_type": "execute_result"
    },
    {
     "data": {
      "image/png": "[encoded data removed]",
      "text/plain": [
       "<Figure size 432x288 with 1 Axes>"
      ]
     },
     "metadata": {
      "needs_background": "light"
     },
     "output_type": "display_data"
    }
   ],
   "source": [
    "print(history_adam.history.keys())\n",
    "plt.plot(history_adam.history['loss'])\n",
    "plt.plot(history_adam.history['val_loss'])\n",
    "plt.xlabel(\"Epochs\")\n",
    "plt.ylabel(\"Error\")\n",
    "plt.legend(['Training Error','Validation Error'], loc='upper right')\n"
   ]
  },
  {
   "cell_type": "code",
   "execution_count": 77,
   "id": "95bc23b2",
   "metadata": {},
   "outputs": [
    {
     "name": "stdout",
     "output_type": "stream",
     "text": [
      "dict_keys(['loss', 'accuracy', 'val_loss', 'val_accuracy'])\n"
     ]
    },
    {
     "data": {
      "text/plain": [
       "<matplotlib.legend.Legend at 0x1e94d9ed250>"
      ]
     },
     "execution_count": 77,
     "metadata": {},
     "output_type": "execute_result"
    },
    {
     "data": {
      "image/png": "[encoded data removed]",
      "text/plain": [
       "<Figure size 432x288 with 1 Axes>"
      ]
     },
     "metadata": {
      "needs_background": "light"
     },
     "output_type": "display_data"
    }
   ],
   "source": [
    "print(history_adam.history.keys())\n",
    "plt.plot(history_adam.history['loss'])\n",
    "#plt.plot(history.history['val_loss'])\n",
    "plt.xlabel(\"Epochs\")\n",
    "plt.ylabel(\"Error\")\n",
    "plt.legend(['Training Error'], loc='upper right')"
   ]
  },
  {
   "cell_type": "code",
   "execution_count": 78,
   "id": "a9b53bb5",
   "metadata": {},
   "outputs": [
    {
     "name": "stdout",
     "output_type": "stream",
     "text": [
      "119/119 [==============================] - 0s 2ms/step - loss: 0.0883 - accuracy: 0.9847\n"
     ]
    },
    {
     "data": {
      "text/plain": [
       "[0.08828241378068924, 0.9847167134284973]"
      ]
     },
     "execution_count": 78,
     "metadata": {},
     "output_type": "execute_result"
    }
   ],
   "source": [
    "model_adam.evaluate(X_test_flattened, Y_test)"
   ]
  },
  {
   "cell_type": "code",
   "execution_count": 79,
   "id": "205d8751",
   "metadata": {},
   "outputs": [],
   "source": [
    "y_predicted_adam = model_adam.predict(X_test_flattened)\n",
    "Y_pred_adam = []\n",
    "for i in y_predicted_adam:\n",
    "    Y_pred_adam.append(np.argmax(i))"
   ]
  },
  {
   "cell_type": "code",
   "execution_count": 80,
   "id": "34a88625",
   "metadata": {},
   "outputs": [
    {
     "name": "stdout",
     "output_type": "stream",
     "text": [
      "Accuracy: 0.985\n"
     ]
    },
    {
     "data": {
      "image/png": "[encoded data removed]",
      "text/plain": [
       "<Figure size 720x504 with 2 Axes>"
      ]
     },
     "metadata": {
      "needs_background": "light"
     },
     "output_type": "display_data"
    }
   ],
   "source": [
    "from sklearn.metrics import confusion_matrix\n",
    "from sklearn.metrics import precision_score, recall_score, f1_score, accuracy_score\n",
    "cm_adam = confusion_matrix(Y_pred_adam,test.classes)\n",
    "import seaborn as sn\n",
    "categories = ['0', '2','5','6','7']\n",
    "\n",
    "plt.figure(figsize = (10,7))\n",
    "sn.heatmap(cm_adam, annot=True, fmt='d',xticklabels=categories,yticklabels=categories)\n",
    "plt.xlabel('Predicted')\n",
    "plt.ylabel('Truth')\n",
    "print('Accuracy: %.3f' % accuracy_score(test.classes,Y_pred_adam))"
   ]
  },
  {
   "cell_type": "code",
   "execution_count": null,
   "id": "d83ae7a8",
   "metadata": {},
   "outputs": [],
   "source": []
  },
  {
   "cell_type": "code",
   "execution_count": null,
   "id": "5ca91042",
   "metadata": {},
   "outputs": [],
   "source": []
  },
  {
   "cell_type": "code",
   "execution_count": null,
   "id": "be1b0faa",
   "metadata": {},
   "outputs": [],
   "source": []
  },
  {
   "cell_type": "code",
   "execution_count": null,
   "id": "6929fadc",
   "metadata": {},
   "outputs": [],
   "source": []
  }
 ],
 "metadata": {
  "kernelspec": {
   "display_name": "Python 3 (ipykernel)",
   "language": "python",
   "name": "python3"
  },
  "language_info": {
   "codemirror_mode": {
    "name": "ipython",
    "version": 3
   },
   "file_extension": ".py",
   "mimetype": "text/x-python",
   "name": "python",
   "nbconvert_exporter": "python",
   "pygments_lexer": "ipython3",
   "version": "3.9.7"
  }
 },
 "nbformat": 4,
 "nbformat_minor": 5
}
